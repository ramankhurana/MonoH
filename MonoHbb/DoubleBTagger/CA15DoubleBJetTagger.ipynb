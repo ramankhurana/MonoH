{
 "cells": [
  {
   "cell_type": "code",
   "execution_count": 1,
   "metadata": {},
   "outputs": [
    {
     "name": "stdout",
     "output_type": "stream",
     "text": [
      "importing packages for python and ROOT\n",
      "Welcome to JupyROOT 6.12/06\n",
      "importing packages is done\n"
     ]
    }
   ],
   "source": [
    "%matplotlib inline\n",
    "\n",
    "''' original source for this tutorial\n",
    "https://betatim.github.io/posts/sklearn-for-TMVA-users/\n",
    "'''\n",
    "print (\"importing packages for python and ROOT\")\n",
    "import random\n",
    "\n",
    "import pandas as pd\n",
    "import numpy as np\n",
    "import matplotlib as mpl\n",
    "import matplotlib.pyplot as plt\n",
    "\n",
    "from sklearn import datasets\n",
    "from sklearn.tree import DecisionTreeClassifier\n",
    "from sklearn.ensemble import AdaBoostClassifier\n",
    "from sklearn.metrics import classification_report, roc_auc_score\n",
    "\n",
    "from root_numpy import root2array, rec2array\n",
    "\n",
    "print (\"importing packages is done\")"
   ]
  },
  {
   "cell_type": "code",
   "execution_count": 7,
   "metadata": {},
   "outputs": [
    {
     "name": "stdout",
     "output_type": "stream",
     "text": [
      "importing branches now\n",
      "printing X shape\n"
     ]
    }
   ],
   "source": [
    "print (\"importing branches now\")\n",
    "\n",
    "## List the branches names. \n",
    "\n",
    "#branch_names = ['PtL1', 'PtL2', 'PtL3', 'PtL4', 'PtJ1', 'PtJ2', 'MJ1', 'MJ2', 'nJet', 'nLep', 'MZ1', 'MZ2', 'PtZ1', 'PtZ2', 'MZZ', 'PtZZ', 'dPhiJJ', 'MJJ', 'EtaJ1xJ2', 'YZ1Star', 'YZ2Star', 'PtZZJJOHtZZJJ', 'Z1Cen', 'Z2Cen']\n",
    "branch_names = ['massPruned','flavour','nbHadrons','ptPruned','etaPruned','SubJet_csv','z_ratio','trackSipdSig_3','trackSipdSig_2','trackSipdSig_1','trackSipdSig_0','trackSipdSig_1_0','trackSipdSig_0_0','trackSipdSig_1_1','trackSipdSig_0_1','trackSip2dSigAboveCharm_0','trackSip2dSigAboveBottom_0','trackSip2dSigAboveBottom_1','tau0_trackEtaRel_0','tau0_trackEtaRel_1','tau0_trackEtaRel_2','tau1_trackEtaRel_0','tau1_trackEtaRel_1','tau1_trackEtaRel_2','tau_vertexMass_0','tau_vertexEnergyRatio_0','tau_vertexDeltaR_0','tau_flightDistance2dSig_0','tau_vertexMass_1','tau_vertexEnergyRatio_1','tau_flightDistance2dSig_1','jetNTracks','nSV']\n",
    "\"\"\"lepton pT, lepton eta, lepton phi,\n",
    "missing energy magnitude, missing energy phi,\n",
    "jet 1 pt, jet 1 eta, jet 1 phi, jet 1 b-tag,\n",
    "jet 2 pt, jet 2 eta, jet 2 phi, jet 2 b-tag,\n",
    "jet 3 pt, jet 3 eta, jet 3 phi, jet 3 b-tag,\n",
    "jet 4 pt, jet 4 eta, jet 4 phi, jet 4 b-tag,\n",
    "m_jj, m_jjj, m_lv, m_jlv, m_bb, m_wbb,\n",
    "m_wwbb.split(\",\")\n",
    "\"\"\"\n",
    "\n",
    "\n",
    "branch_names = [c.strip() for c in branch_names]\n",
    "\n",
    "branch_names = (b.replace(\" \", \"_\") for b in branch_names)\n",
    "\n",
    "branch_names = list(b.replace(\"-\", \"_\") for b in branch_names)\n",
    "\n",
    "#print (branch_names)\n",
    "\n",
    "## convert ROOT Tree into a 2D array, sciKit works mainly on two d array. \n",
    "## 1 d is for variable name and second dimension for the values of those variables. \n",
    "\n",
    "## Open the rootfile and read TTree and convert those branches into a 2D record. And then convert this record into\n",
    "## array. \n",
    "signal = root2array(\"signal_ZpBaryonic_MZp-1000_MChi-1_train.root\",\n",
    "                    \"outTree\",\n",
    "                    branch_names,\n",
    "                    selection='(ptPruned > 170.0) & ( massPruned < 400) & ( massPruned > 70) & nEle==0'\n",
    "                   )\n",
    "\n",
    "# print (\"signal\")\n",
    "# print (signal)\n",
    "signal = rec2array(signal)\n",
    "\n",
    "backgr = root2array(\"bkg_QCD500-700_train.root\",\n",
    "                    \"outTree\",\n",
    "                    branch_names,\n",
    "                    selection='(ptPruned > 170.0) & ( massPruned < 400) & ( massPruned > 70)& nEle==0'\n",
    "                   )\n",
    "backgr = rec2array(backgr)\n",
    "\n",
    "\n",
    "# for sklearn data is usually organised\n",
    "# into one 2D array of shape (n_samples x n_features)\n",
    "# containing all the data and one array of categories\n",
    "# of length n_samples\n",
    "\n",
    "# print ('number of branches ='), len(branch_names)\n",
    "# print ( len(branch_names))\n",
    "# print (signal.shape) \n",
    "# print (backgr.shape) \n",
    "## Join signal and background and everything is not contained in single entity. \n",
    "X = np.concatenate((signal, backgr))\n",
    "\n",
    "print (\"printing X shape\"),(X.shape)\n",
    "# print (X)\n",
    "## add one more column, 1 is for signal and 0 is for background. \n",
    "y = np.concatenate((np.ones(signal.shape[0]),\n",
    "                    np.zeros(backgr.shape[0])))\n",
    "# print (y[0])\n",
    "# print (signal.shape[0])\n",
    "# print (np.ones(signal.shape[0]))\n",
    "# print ((backgr.shape))\n",
    "# print (\"printing Y shape\"),(y.shape)\n",
    "# print (y.shape)\n"
   ]
  },
  {
   "cell_type": "code",
   "execution_count": 8,
   "metadata": {},
   "outputs": [
    {
     "name": "stdout",
     "output_type": "stream",
     "text": [
      "size before spliting\n",
      "xsize\n",
      "(154207, 33)\n",
      "ysize\n",
      "(154207,)\n",
      "size after the spliting\n",
      "xtrain\n",
      "(103318, 33)\n",
      "xtest\n",
      "(50889, 33)\n",
      "ytrain\n",
      "(103318,)\n",
      "ytest\n",
      "(50889,)\n"
     ]
    }
   ],
   "source": [
    "from sklearn.model_selection import train_test_split\n",
    "print ('size before spliting')\n",
    "print ('xsize')\n",
    "print (X.shape)\n",
    "print ('ysize')\n",
    "print (y.shape)\n",
    "X_train,X_test,y_train,y_test = train_test_split (X, y, test_size=0.33, random_state=42)\n",
    "\n",
    "print ('size after the spliting')\n",
    "print ('xtrain')\n",
    "print (X_train.shape)\n",
    "print ('xtest')\n",
    "print (X_test.shape)\n",
    "print ('ytrain')\n",
    "print (y_train.shape)\n",
    "print ('ytest')\n",
    "print (y_test.shape)"
   ]
  },
  {
   "cell_type": "code",
   "execution_count": 9,
   "metadata": {},
   "outputs": [
    {
     "name": "stdout",
     "output_type": "stream",
     "text": [
      "start training\n",
      "bdt had done the fitting\n"
     ]
    }
   ],
   "source": [
    "print (\"start training\")\n",
    "from sklearn.tree import DecisionTreeClassifier\n",
    "from sklearn.ensemble import AdaBoostClassifier\n",
    "from sklearn.metrics import classification_report, roc_auc_score\n",
    "\n",
    "dt = DecisionTreeClassifier(max_depth=5)\n",
    "bdt = AdaBoostClassifier(dt,algorithm='SAMME',n_estimators=800,learning_rate=0.5)\n",
    "bdt.fit(X_train, y_train)\n",
    "print (\"bdt had done the fitting\")"
   ]
  },
  {
   "cell_type": "code",
   "execution_count": 12,
   "metadata": {
    "scrolled": true
   },
   "outputs": [
    {
     "name": "stdout",
     "output_type": "stream",
     "text": [
      "ypredicted\n",
      "[0. 1. 1. ... 1. 0. 1.]\n",
      "             precision    recall  f1-score   support\n",
      "\n",
      " background       0.92      0.95      0.93     37446\n",
      "     signal       0.84      0.76      0.80     13443\n",
      "\n",
      "avg / total       0.90      0.90      0.90     50889\n",
      "\n",
      "[-0.40417373  0.02194809  0.01817798 ...  0.9843312  -0.25211179\n",
      "  0.98363488]\n",
      "Area under the ROC: 0.9364\n"
     ]
    },
    {
     "data": {
      "image/png": "[encoded data removed]",
      "text/plain": [
       "<Figure size 432x288 with 1 Axes>"
      ]
     },
     "metadata": {},
     "output_type": "display_data"
    },
    {
     "data": {
      "text/plain": [
       "<Figure size 432x288 with 0 Axes>"
      ]
     },
     "metadata": {},
     "output_type": "display_data"
    }
   ],
   "source": [
    "y_predicted = bdt.predict(X_test)\n",
    "print (\"ypredicted\")\n",
    "print (y_predicted)\n",
    "\n",
    "print (classification_report(y_test, y_predicted,\n",
    "                            target_names=[\"background\", \"signal\"]))\n",
    "\n",
    "from sklearn.metrics import roc_curve, auc\n",
    "decisions = bdt.decision_function(X_test)\n",
    "print (decisions)\n",
    "print (\"Area under the ROC: %.4f\" %roc_auc_score(y_test,decisions))\n",
    "\n",
    "fpr, tpr, thresholds = roc_curve(y_test, decisions)\n",
    "roc_auc = auc(fpr, tpr)\n",
    "\n",
    "plt.plot(tpr,fpr, color='darkorange', lw=3, label='ROC (area = %0.2f)'%(roc_auc))\n",
    "\n",
    "plt.plot([0, 1], [0, 1], '--', color='navy')\n",
    "plt.xlim([-0.05, 1.05])\n",
    "plt.ylim([-0.05, 1.05])\n",
    "plt.ylabel(r'False Positive Rate')\n",
    "plt.xlabel(r'True Positive Rate')\n",
    "plt.title(r'Receiver operating characteristic')\n",
    "plt.legend(loc=\"upper left\")\n",
    "plt.grid()\n",
    "plt.show()\n",
    "plt.savefig('roc')"
   ]
  },
  {
   "cell_type": "code",
   "execution_count": 13,
   "metadata": {},
   "outputs": [
    {
     "name": "stderr",
     "output_type": "stream",
     "text": [
      "/Users/dekumar/Library/Python/3.6/lib/python/site-packages/matplotlib/axes/_axes.py:6462: UserWarning: The 'normed' kwarg is deprecated, and has been replaced by the 'density' kwarg.\n",
      "  warnings.warn(\"The 'normed' kwarg is deprecated, and has been \"\n"
     ]
    },
    {
     "data": {
      "image/png": "[encoded data removed]",
      "text/plain": [
       "<Figure size 432x288 with 1 Axes>"
      ]
     },
     "metadata": {},
     "output_type": "display_data"
    }
   ],
   "source": [
    "def compare_train_test(clf, X_train, y_train, X_test, y_test, bins=30):\n",
    "    decisions = []\n",
    "    for X,y in ((X_train, y_train), (X_test, y_test)):\n",
    "        d1 = clf.decision_function(X[y>0.5]).ravel()\n",
    "        d2 = clf.decision_function(X[y<0.5]).ravel()\n",
    "        decisions += [d1, d2]\n",
    "        \n",
    "    low = min(np.min(d) for d in decisions)\n",
    "    high = max(np.max(d) for d in decisions)\n",
    "    low_high = (low,high)\n",
    "    \n",
    "    plt.hist(decisions[0],\n",
    "             color='r', alpha=0.5, range=low_high, bins=bins,\n",
    "             histtype='stepfilled', normed=True,\n",
    "             label='S (train)')\n",
    "    plt.hist(decisions[1],\n",
    "             color='b', alpha=0.5, range=low_high, bins=bins,\n",
    "             histtype='stepfilled', normed=True,\n",
    "             label='B (train)')\n",
    "\n",
    "    hist, bins = np.histogram(decisions[2],\n",
    "                              bins=bins, range=low_high, normed=True)\n",
    "    scale = len(decisions[2]) / sum(hist)\n",
    "    err = np.sqrt(hist * scale) / scale\n",
    "    \n",
    "    width = (bins[1] - bins[0])\n",
    "    center = (bins[:-1] + bins[1:]) / 2\n",
    "    plt.errorbar(center, hist, yerr=err, fmt='o', c='r', label='S (test)')\n",
    "    \n",
    "    hist, bins = np.histogram(decisions[3],\n",
    "                              bins=bins, range=low_high, normed=True)\n",
    "    scale = len(decisions[2]) / sum(hist)\n",
    "    err = np.sqrt(hist * scale) / scale\n",
    "\n",
    "    plt.errorbar(center, hist, yerr=err, fmt='o', c='b', label='B (test)')\n",
    "\n",
    "    plt.xlabel(\"BDT output\")\n",
    "    plt.ylabel(\"Arbitrary units\")\n",
    "    plt.legend(loc='best')\n",
    "    \n",
    "compare_train_test(bdt, X_train, y_train, X_test, y_test)"
   ]
  },
  {
   "cell_type": "code",
   "execution_count": 34,
   "metadata": {},
   "outputs": [
    {
     "name": "stdout",
     "output_type": "stream",
     "text": [
      "rootfile written\n"
     ]
    }
   ],
   "source": [
    "from root_numpy import array2root\n",
    "\n",
    "y_predicted = bdt.decision_function(X)\n",
    "y_predicted.dtype = [('y', np.float64)]\n",
    "\n",
    "array2root(y_predicted, \"prediction.root\", \"BDToutput\")\n",
    "print (\"rootfile written\")"
   ]
  },
  {
   "cell_type": "code",
   "execution_count": 41,
   "metadata": {},
   "outputs": [
    {
     "name": "stdout",
     "output_type": "stream",
     "text": [
      "['massPruned', 'flavour', 'nbHadrons', 'ptPruned', 'etaPruned', 'SubJet_csv', 'z_ratio', 'trackSipdSig_3', 'trackSipdSig_2', 'trackSipdSig_1', 'trackSipdSig_0', 'trackSipdSig_1_0', 'trackSipdSig_0_0', 'trackSipdSig_1_1', 'trackSipdSig_0_1', 'trackSip2dSigAboveCharm_0', 'trackSip2dSigAboveBottom_0', 'trackSip2dSigAboveBottom_1', 'tau0_trackEtaRel_0', 'tau0_trackEtaRel_1', 'tau0_trackEtaRel_2', 'tau1_trackEtaRel_0', 'tau1_trackEtaRel_1', 'tau1_trackEtaRel_2', 'tau_vertexMass_0', 'tau_vertexEnergyRatio_0', 'tau_vertexDeltaR_0', 'tau_flightDistance2dSig_0', 'tau_vertexMass_1', 'tau_vertexEnergyRatio_1', 'tau_flightDistance2dSig_1', 'jetNTracks', 'nSV', 'y']\n"
     ]
    }
   ],
   "source": [
    "import pandas.core.common as com\n",
    "from pandas.core.index import Index\n",
    "\n",
    "from pandas.tools import plotting\n",
    "from pandas.tools.plotting import scatter_matrix\n",
    "\n",
    "# Create a pandas DataFrame for our data\n",
    "# this provides many convenience functions\n",
    "# for exploring your dataset\n",
    "# need to reshape y so it is a 2D array with one column\n",
    "df = pd.DataFrame(np.hstack((X, y.reshape(y.shape[0], -1))),\n",
    "                  columns=branch_names+['y'])\n",
    "\n",
    "#print (\"df\")\n",
    "#print (df)\n",
    "print ((branch_names+['y']))\n",
    "#print (\"reshaping\");(y.reshape(y.shape[0], -1))\n",
    "#print ((y.shape[0], -1))\n",
    "#print (y.reshape(y.shape[0], -1))\n",
    "#print (X, y.reshape(y.shape[0], -1))\n",
    "\n",
    "def signal_background(data1, data2, column=None, grid=True,\n",
    "                      xlabelsize=None, xrot=None, ylabelsize=None,\n",
    "                      yrot=None, ax=None, sharex=False,\n",
    "                      sharey=False, figsize=None,\n",
    "                      layout=None, bins=10, **kwds):\n",
    "    \"\"\"Draw histogram of the DataFrame's series comparing the distribution\n",
    "    in `data1` to `data2`.\n",
    "    \n",
    "    data1: DataFrame\n",
    "    data2: DataFrame\n",
    "    column: string or sequence\n",
    "        If passed, will be used to limit data to a subset of columns\n",
    "    grid : boolean, default True\n",
    "        Whether to show axis grid lines\n",
    "    xlabelsize : int, default None\n",
    "        If specified changes the x-axis label size\n",
    "    xrot : float, default None\n",
    "        rotation of x axis labels\n",
    "    ylabelsize : int, default None\n",
    "        If specified changes the y-axis label size\n",
    "    yrot : float, default None\n",
    "        rotation of y axis labels\n",
    "    ax : matplotlib axes object, default None\n",
    "    sharex : bool, if True, the X axis will be shared amongst all subplots.\n",
    "    sharey : bool, if True, the Y axis will be shared amongst all subplots.\n",
    "    figsize : tuple\n",
    "        The size of the figure to create in inches by default\n",
    "    layout: (optional) a tuple (rows, columns) for the layout of the histograms\n",
    "    bins: integer, default 10\n",
    "        Number of histogram bins to be used\n",
    "    kwds : other plotting keyword arguments\n",
    "        To be passed to hist function\n",
    "    \"\"\"\n",
    "        \n",
    "    if 'alpha' not in kwds:\n",
    "        kwds['alpha'] = 0.5\n",
    "\n",
    "    if column is not None:\n",
    "        if not isinstance(column, (list, np.ndarray, Index)):\n",
    "            column = [column]\n",
    "        data1 = data1[column]\n",
    "        data2 = data2[column]\n",
    "        \n",
    "    data1 = data1._get_numeric_data()\n",
    "    data2 = data2._get_numeric_data()\n",
    "    naxes = len(data1.columns)\n",
    "\n",
    "    fig, axes = plotting._subplots(naxes=naxes, ax=ax, squeeze=False,\n",
    "                                   sharex=sharex,\n",
    "                                   sharey=sharey,\n",
    "                                   figsize=figsize,\n",
    "                                   layout=layout)\n",
    "    _axes = plotting._flatten(axes)\n",
    "\n",
    "    for i, col in enumerate(com._try_sort(data1.columns)):\n",
    "        ax = _axes[i]\n",
    "        low = min(data1[col].min(), data2[col].min())\n",
    "        high = max(data1[col].max(), data2[col].max())\n",
    "        ax.hist(data1[col].dropna().values,\n",
    "                bins=bins, range=(low,high), **kwds)\n",
    "        ax.hist(data2[col].dropna().values,\n",
    "                bins=bins, range=(low,high), **kwds)\n",
    "        ax.set_title(col)\n",
    "        ax.grid(grid)\n",
    "\n",
    "    plotting._set_ticks_props(axes, xlabelsize=xlabelsize, xrot=xrot,\n",
    "                              ylabelsize=ylabelsize, yrot=yrot)\n",
    "    fig.subplots_adjust(wspace=0.3, hspace=0.7)\n",
    "\n",
    "    return axes\n",
    "\n",
    "# Plot signal and background distributions for some\n",
    "# variables\n",
    "# The first two arguments select what is \"signal\"\n",
    "# and what is \"background\". This means you can\n",
    "# use it for more general comparisons of two\n",
    "# subsets as well.\n",
    "#############################  signal_background(df[df.y<0.5], df[df.y>0.5] )\n"
   ]
  },
  {
   "cell_type": "code",
   "execution_count": 40,
   "metadata": {},
   "outputs": [
    {
     "ename": "TypeError",
     "evalue": "Population must be a sequence or set.  For dicts, use list(d).",
     "output_type": "error",
     "traceback": [
      "\u001b[0;31m---------------------------------------------------------------------------\u001b[0m",
      "\u001b[0;31mTypeError\u001b[0m                                 Traceback (most recent call last)",
      "\u001b[0;32m<ipython-input-40-bdce087227ba>\u001b[0m in \u001b[0;36m<module>\u001b[0;34m()\u001b[0m\n\u001b[1;32m      6\u001b[0m     \u001b[0msig\u001b[0m \u001b[0;34m=\u001b[0m \u001b[0mdf\u001b[0m\u001b[0;34m.\u001b[0m\u001b[0my\u001b[0m \u001b[0;34m>\u001b[0m \u001b[0;36m0.5\u001b[0m\u001b[0;34m\u001b[0m\u001b[0m\n\u001b[1;32m      7\u001b[0m \u001b[0;34m\u001b[0m\u001b[0m\n\u001b[0;32m----> 8\u001b[0;31m \u001b[0mmake2dplot\u001b[0m\u001b[0;34m(\u001b[0m\u001b[0;34m)\u001b[0m\u001b[0;34m\u001b[0m\u001b[0m\n\u001b[0m",
      "\u001b[0;32m<ipython-input-40-bdce087227ba>\u001b[0m in \u001b[0;36mmake2dplot\u001b[0;34m()\u001b[0m\n\u001b[1;32m      1\u001b[0m \u001b[0;32mimport\u001b[0m \u001b[0mmatplotlib\u001b[0m\u001b[0;34m.\u001b[0m\u001b[0mpyplot\u001b[0m \u001b[0;32mas\u001b[0m \u001b[0mplt\u001b[0m\u001b[0;34m\u001b[0m\u001b[0m\n\u001b[1;32m      2\u001b[0m \u001b[0;32mdef\u001b[0m \u001b[0mmake2dplot\u001b[0m\u001b[0;34m(\u001b[0m\u001b[0;34m)\u001b[0m\u001b[0;34m:\u001b[0m\u001b[0;34m\u001b[0m\u001b[0m\n\u001b[0;32m----> 3\u001b[0;31m     \u001b[0mdf\u001b[0m\u001b[0;34m.\u001b[0m\u001b[0mloc\u001b[0m\u001b[0;34m[\u001b[0m\u001b[0mrandom\u001b[0m\u001b[0;34m.\u001b[0m\u001b[0msample\u001b[0m\u001b[0;34m(\u001b[0m\u001b[0mdf\u001b[0m\u001b[0;34m.\u001b[0m\u001b[0mindex\u001b[0m\u001b[0;34m,\u001b[0m \u001b[0;36m1000\u001b[0m\u001b[0;34m)\u001b[0m\u001b[0;34m]\u001b[0m\u001b[0;34m.\u001b[0m\u001b[0mplot\u001b[0m\u001b[0;34m(\u001b[0m\u001b[0mkind\u001b[0m\u001b[0;34m=\u001b[0m\u001b[0;34m'scatter'\u001b[0m\u001b[0;34m,\u001b[0m  \u001b[0mx\u001b[0m\u001b[0;34m=\u001b[0m\u001b[0;34m'lepton_pT'\u001b[0m\u001b[0;34m,\u001b[0m \u001b[0my\u001b[0m\u001b[0;34m=\u001b[0m\u001b[0;34m'jet_3_pt'\u001b[0m\u001b[0;34m,\u001b[0m    \u001b[0mc\u001b[0m\u001b[0;34m=\u001b[0m\u001b[0;34m'y'\u001b[0m\u001b[0;34m,\u001b[0m \u001b[0mcmap\u001b[0m\u001b[0;34m=\u001b[0m\u001b[0;34m'autumn'\u001b[0m\u001b[0;34m)\u001b[0m\u001b[0;34m\u001b[0m\u001b[0m\n\u001b[0m\u001b[1;32m      4\u001b[0m     \u001b[0mplt\u001b[0m\u001b[0;34m.\u001b[0m\u001b[0mshow\u001b[0m\u001b[0;34m(\u001b[0m\u001b[0;34m)\u001b[0m\u001b[0;34m\u001b[0m\u001b[0m\n\u001b[1;32m      5\u001b[0m     \u001b[0mbg\u001b[0m \u001b[0;34m=\u001b[0m \u001b[0mdf\u001b[0m\u001b[0;34m.\u001b[0m\u001b[0my\u001b[0m \u001b[0;34m<\u001b[0m \u001b[0;36m0.5\u001b[0m\u001b[0;34m\u001b[0m\u001b[0m\n",
      "\u001b[0;32m/usr/local/Cellar/python/3.6.5/Frameworks/Python.framework/Versions/3.6/lib/python3.6/random.py\u001b[0m in \u001b[0;36msample\u001b[0;34m(self, population, k)\u001b[0m\n\u001b[1;32m    312\u001b[0m             \u001b[0mpopulation\u001b[0m \u001b[0;34m=\u001b[0m \u001b[0mtuple\u001b[0m\u001b[0;34m(\u001b[0m\u001b[0mpopulation\u001b[0m\u001b[0;34m)\u001b[0m\u001b[0;34m\u001b[0m\u001b[0m\n\u001b[1;32m    313\u001b[0m         \u001b[0;32mif\u001b[0m \u001b[0;32mnot\u001b[0m \u001b[0misinstance\u001b[0m\u001b[0;34m(\u001b[0m\u001b[0mpopulation\u001b[0m\u001b[0;34m,\u001b[0m \u001b[0m_Sequence\u001b[0m\u001b[0;34m)\u001b[0m\u001b[0;34m:\u001b[0m\u001b[0;34m\u001b[0m\u001b[0m\n\u001b[0;32m--> 314\u001b[0;31m             \u001b[0;32mraise\u001b[0m \u001b[0mTypeError\u001b[0m\u001b[0;34m(\u001b[0m\u001b[0;34m\"Population must be a sequence or set.  For dicts, use list(d).\"\u001b[0m\u001b[0;34m)\u001b[0m\u001b[0;34m\u001b[0m\u001b[0m\n\u001b[0m\u001b[1;32m    315\u001b[0m         \u001b[0mrandbelow\u001b[0m \u001b[0;34m=\u001b[0m \u001b[0mself\u001b[0m\u001b[0;34m.\u001b[0m\u001b[0m_randbelow\u001b[0m\u001b[0;34m\u001b[0m\u001b[0m\n\u001b[1;32m    316\u001b[0m         \u001b[0mn\u001b[0m \u001b[0;34m=\u001b[0m \u001b[0mlen\u001b[0m\u001b[0;34m(\u001b[0m\u001b[0mpopulation\u001b[0m\u001b[0;34m)\u001b[0m\u001b[0;34m\u001b[0m\u001b[0m\n",
      "\u001b[0;31mTypeError\u001b[0m: Population must be a sequence or set.  For dicts, use list(d)."
     ]
    }
   ],
   "source": [
    "import matplotlib.pyplot as plt\n",
    "def make2dplot():\n",
    "    df.loc[random.sample(df.index, 1000)].plot(kind='scatter',  x='lepton_pT', y='jet_3_pt',    c='y', cmap='autumn')\n",
    "    plt.show()\n",
    "    bg = df.y < 0.5\n",
    "    sig = df.y > 0.5\n"
   ]
  },
  {
   "cell_type": "code",
   "execution_count": 37,
   "metadata": {},
   "outputs": [],
   "source": [
    "def printCorrelation():\n",
    "    #this works but takes some time\n",
    "    #a=df[bg].corr()\n",
    "    print (df)\n",
    "    print (type(df[bg].corr()))\n",
    "    print (' ---------------------')\n",
    "    print (df[sig].corr())\n"
   ]
  },
  {
   "cell_type": "code",
   "execution_count": 39,
   "metadata": {},
   "outputs": [
    {
     "ename": "NameError",
     "evalue": "name 'massPruned' is not defined",
     "output_type": "error",
     "traceback": [
      "\u001b[0;31m---------------------------------------------------------------------------\u001b[0m",
      "\u001b[0;31mNameError\u001b[0m                                 Traceback (most recent call last)",
      "\u001b[0;32m<ipython-input-39-343036fec8a4>\u001b[0m in \u001b[0;36m<module>\u001b[0;34m()\u001b[0m\n\u001b[0;32m----> 1\u001b[0;31m \u001b[0msignal_background\u001b[0m\u001b[0;34m(\u001b[0m\u001b[0mmassPruned\u001b[0m\u001b[0;34m,\u001b[0m \u001b[0mmassPruned\u001b[0m \u001b[0;34m)\u001b[0m\u001b[0;34m\u001b[0m\u001b[0m\n\u001b[0m",
      "\u001b[0;31mNameError\u001b[0m: name 'massPruned' is not defined"
     ]
    }
   ],
   "source": [
    "signal_background(massPruned, massPruned )"
   ]
  },
  {
   "cell_type": "code",
   "execution_count": null,
   "metadata": {},
   "outputs": [],
   "source": []
  }
 ],
 "metadata": {
  "kernelspec": {
   "display_name": "Python 3",
   "language": "python",
   "name": "python3"
  },
  "language_info": {
   "codemirror_mode": {
    "name": "ipython",
    "version": 3
   },
   "file_extension": ".py",
   "mimetype": "text/x-python",
   "name": "python",
   "nbconvert_exporter": "python",
   "pygments_lexer": "ipython3",
   "version": "3.6.5"
  }
 },
 "nbformat": 4,
 "nbformat_minor": 2
}
