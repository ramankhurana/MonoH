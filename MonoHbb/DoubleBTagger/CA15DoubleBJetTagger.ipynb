{
 "cells": [
  {
   "cell_type": "code",
   "execution_count": 1,
   "metadata": {},
   "outputs": [
    {
     "name": "stdout",
     "output_type": "stream",
     "text": [
      "importing packages for python and ROOT\n",
      "Welcome to JupyROOT 6.12/06\n",
      "importing packages is done\n"
     ]
    }
   ],
   "source": [
    "%matplotlib inline\n",
    "\n",
    "''' original source for this tutorial\n",
    "https://betatim.github.io/posts/sklearn-for-TMVA-users/\n",
    "'''\n",
    "print (\"importing packages for python and ROOT\")\n",
    "import random\n",
    "\n",
    "import pandas as pd\n",
    "import numpy as np\n",
    "import matplotlib as mpl\n",
    "import matplotlib.pyplot as plt\n",
    "\n",
    "from sklearn import datasets\n",
    "from sklearn.tree import DecisionTreeClassifier\n",
    "from sklearn.ensemble import AdaBoostClassifier\n",
    "from sklearn.metrics import classification_report, roc_auc_score\n",
    "\n",
    "from root_numpy import root2array, rec2array\n",
    "\n",
    "print (\"importing packages is done\")"
   ]
  },
  {
   "cell_type": "code",
   "execution_count": 26,
   "metadata": {},
   "outputs": [
    {
     "name": "stdout",
     "output_type": "stream",
     "text": [
      "importing branches now\n",
      "signal\n",
      "[(array([118.7569], dtype=float32), array([-1.], dtype=float32), array([-1.], dtype=float32), array([303.4361], dtype=float32), array([2.6524055], dtype=float32), array([0.82922137], dtype=float32), array([8.858039], dtype=float32), array([-1.7178483], dtype=float32), array([-1.5741225], dtype=float32), array([0.9732842], dtype=float32), array([4.52087], dtype=float32), array([4.52087], dtype=float32), array([-50.], dtype=float32), array([0.9732842], dtype=float32), array([-50.], dtype=float32), array([-1.2277625], dtype=float32), array([-1.6190751], dtype=float32), array([-19.], dtype=float32), array([3.4530842], dtype=float32), array([3.5667782], dtype=float32), array([4.188206], dtype=float32), array([-1.], dtype=float32), array([-1.], dtype=float32), array([-1.], dtype=float32), array([4.7115393], dtype=float32), array([1.4210616], dtype=float32), array([0.06250124], dtype=float32), array([4.6057205], dtype=float32), array([-1.], dtype=float32), array([-1.], dtype=float32), array([-1.], dtype=float32), array([6.], dtype=float32), array([1.], dtype=float32))\n",
      " (array([106.86092, 119.49971], dtype=float32), array([-1., -1.], dtype=float32), array([-1., -1.], dtype=float32), array([175.53197, 163.91791], dtype=float32), array([-1.6210405 ,  0.75521815], dtype=float32), array([0.7079074 , 0.99728566], dtype=float32), array([6.3866134, 0.8590221], dtype=float32), array([1.2968699, 1.5306034], dtype=float32), array([1.4173198, 1.688259 ], dtype=float32), array([1.6561824, 2.3230023], dtype=float32), array([23.978062 ,  5.9278197], dtype=float32), array([23.978062 ,  5.9278197], dtype=float32), array([1.2968699, 2.3230023], dtype=float32), array([1.6561824, 1.688259 ], dtype=float32), array([1.131336 , 1.5306034], dtype=float32), array([1.7066072, 7.5623684], dtype=float32), array([1.2966084, 7.5623684], dtype=float32), array([1.231218 , 6.0061803], dtype=float32), array([2.6630871, 2.4784284], dtype=float32), array([2.866792 , 2.8148284], dtype=float32), array([-1.       ,  3.2670753], dtype=float32), array([-1.       ,  1.9498568], dtype=float32), array([-1.       ,  2.2991288], dtype=float32), array([-1.       ,  2.4692905], dtype=float32), array([2.6964912, 2.2102678], dtype=float32), array([0.17107385, 0.44276643], dtype=float32), array([0.31890363, 0.08074784], dtype=float32), array([12.525106,  2.506599], dtype=float32), array([-1.       ,  2.6453824], dtype=float32), array([-1.        ,  0.30089825], dtype=float32), array([-1.      , 84.518936], dtype=float32), array([15., 21.], dtype=float32), array([1., 2.], dtype=float32))\n",
      " (array([104.35587], dtype=float32), array([-1.], dtype=float32), array([-1.], dtype=float32), array([254.93362], dtype=float32), array([-1.5807848], dtype=float32), array([-1.], dtype=float32), array([-3.], dtype=float32), array([0.27327085], dtype=float32), array([1.0354964], dtype=float32), array([2.4663968], dtype=float32), array([20.135454], dtype=float32), array([20.135454], dtype=float32), array([-1.284041], dtype=float32), array([2.4663968], dtype=float32), array([-50.], dtype=float32), array([0.7748964], dtype=float32), array([0.6191376], dtype=float32), array([0.48792887], dtype=float32), array([3.6652036], dtype=float32), array([4.384294], dtype=float32), array([-1.], dtype=float32), array([-1.], dtype=float32), array([-1.], dtype=float32), array([-1.], dtype=float32), array([0.64433795], dtype=float32), array([4.0373106], dtype=float32), array([0.09309813], dtype=float32), array([2.9986444], dtype=float32), array([-1.], dtype=float32), array([-1.], dtype=float32), array([-1.], dtype=float32), array([7.], dtype=float32), array([0.], dtype=float32))\n",
      " ...\n",
      " (array([122.416374], dtype=float32), array([-1.], dtype=float32), array([-1.], dtype=float32), array([412.27185], dtype=float32), array([0.6282518], dtype=float32), array([0.9945445], dtype=float32), array([4.0362506], dtype=float32), array([1.8810842], dtype=float32), array([2.0113385], dtype=float32), array([11.677349], dtype=float32), array([15.744618], dtype=float32), array([11.677349], dtype=float32), array([15.744618], dtype=float32), array([1.7780038], dtype=float32), array([2.0113385], dtype=float32), array([13.0612335], dtype=float32), array([13.0612335], dtype=float32), array([10.761267], dtype=float32), array([2.2330956], dtype=float32), array([3.7971158], dtype=float32), array([3.820272], dtype=float32), array([1.5599455], dtype=float32), array([1.8686498], dtype=float32), array([2.1184812], dtype=float32), array([6.844686], dtype=float32), array([2.1082108], dtype=float32), array([0.11810514], dtype=float32), array([3.6429446], dtype=float32), array([22.206354], dtype=float32), array([0.9196359], dtype=float32), array([3.578263], dtype=float32), array([19.], dtype=float32), array([4.], dtype=float32))\n",
      " (array([168.67307 ,  34.502274], dtype=float32), array([-1., -1.], dtype=float32), array([-1., -1.], dtype=float32), array([322.79977, 157.27736], dtype=float32), array([0.671399 , 2.1227136], dtype=float32), array([0.863271, 0.998777], dtype=float32), array([1.2200797, 4.3912935], dtype=float32), array([ 1.4984373, -1.2206422], dtype=float32), array([ 1.9629037 , -0.33089334], dtype=float32), array([2.2573838, 1.9818451], dtype=float32), array([15.561814,  7.503316], dtype=float32), array([15.561814,  7.503316], dtype=float32), array([2.2573838, 1.9818451], dtype=float32), array([ 0.89671284, -0.33089334], dtype=float32), array([ 1.9629037, -1.2206422], dtype=float32), array([15.5071125,  6.200621 ], dtype=float32), array([5.7418084, 6.200621 ], dtype=float32), array([2.803824 , 5.8689914], dtype=float32), array([2.1561737, 3.6007953], dtype=float32), array([2.6689267, 4.345769 ], dtype=float32), array([2.6920729, 4.5702767], dtype=float32), array([ 3.3064117, -1.       ], dtype=float32), array([ 4.7919674, -1.       ], dtype=float32), array([-1., -1.], dtype=float32), array([3.4477298, 1.5292279], dtype=float32), array([0.33532196, 1.0421424 ], dtype=float32), array([0.20173569, 0.0208363 ], dtype=float32), array([ 2.6076882, 12.883516 ], dtype=float32), array([ 1.2382362, -1.       ], dtype=float32), array([ 0.40885174, -1.        ], dtype=float32), array([19.304674, -1.      ], dtype=float32), array([19.,  8.], dtype=float32), array([3., 1.], dtype=float32))\n",
      " (array([132.41017,  64.21353], dtype=float32), array([-1., -1.], dtype=float32), array([-1., -1.], dtype=float32), array([271.18   , 182.54884], dtype=float32), array([-0.802398 , -1.9946681], dtype=float32), array([0.6747319 , 0.40013748], dtype=float32), array([ 5.3316755, -3.       ], dtype=float32), array([ 1.5631782 , -0.31332248], dtype=float32), array([1.6365688, 0.6230685], dtype=float32), array([2.8361938, 2.0884614], dtype=float32), array([4.3610296, 2.8923705], dtype=float32), array([ 2.8361938, -0.6236096], dtype=float32), array([4.3610296, 2.8923705], dtype=float32), array([ 1.6365688, -0.8627811], dtype=float32), array([1.1921256, 2.0884614], dtype=float32), array([2.7688193, 1.9038002], dtype=float32), array([2.622545 , 1.4022379], dtype=float32), array([2.1702566, 1.3111115], dtype=float32), array([ 3.5785177, -1.       ], dtype=float32), array([ 4.474331, -1.      ], dtype=float32), array([ 4.510758, -1.      ], dtype=float32), array([-1., -1.], dtype=float32), array([-1., -1.], dtype=float32), array([-1., -1.], dtype=float32), array([ 2.1777785, -1.       ], dtype=float32), array([ 0.6649886, -1.       ], dtype=float32), array([ 0.0068693, -1.       ], dtype=float32), array([ 7.406693, -1.      ], dtype=float32), array([-1., -1.], dtype=float32), array([-1., -1.], dtype=float32), array([-1., -1.], dtype=float32), array([17., 13.], dtype=float32), array([1., 0.], dtype=float32))]\n",
      "printing X shape\n"
     ]
    }
   ],
   "source": [
    "print (\"importing branches now\")\n",
    "\n",
    "## List the branches names. \n",
    "\n",
    "#branch_names = ['PtL1', 'PtL2', 'PtL3', 'PtL4', 'PtJ1', 'PtJ2', 'MJ1', 'MJ2', 'nJet', 'nLep', 'MZ1', 'MZ2', 'PtZ1', 'PtZ2', 'MZZ', 'PtZZ', 'dPhiJJ', 'MJJ', 'EtaJ1xJ2', 'YZ1Star', 'YZ2Star', 'PtZZJJOHtZZJJ', 'Z1Cen', 'Z2Cen']\n",
    "branch_names = ['CA15Puppi_massPruned','CA15Puppi_flavour','CA15Puppi_nbHadrons','CA15Puppi_ptPruned','CA15Puppi_etaPruned','CA15Puppi_SubJet_csv','CA15Puppi_z_ratio','CA15Puppi_trackSipdSig_3','CA15Puppi_trackSipdSig_2','CA15Puppi_trackSipdSig_1','CA15Puppi_trackSipdSig_0','CA15Puppi_trackSipdSig_1_0','CA15Puppi_trackSipdSig_0_0','CA15Puppi_trackSipdSig_1_1','CA15Puppi_trackSipdSig_0_1','CA15Puppi_trackSip2dSigAboveCharm_0','CA15Puppi_trackSip2dSigAboveBottom_0','CA15Puppi_trackSip2dSigAboveBottom_1','CA15Puppi_tau0_trackEtaRel_0','CA15Puppi_tau0_trackEtaRel_1','CA15Puppi_tau0_trackEtaRel_2','CA15Puppi_tau1_trackEtaRel_0','CA15Puppi_tau1_trackEtaRel_1','CA15Puppi_tau1_trackEtaRel_2','CA15Puppi_tau_vertexMass_0','CA15Puppi_tau_vertexEnergyRatio_0','CA15Puppi_tau_vertexDeltaR_0','CA15Puppi_tau_flightDistance2dSig_0','CA15Puppi_tau_vertexMass_1','CA15Puppi_tau_vertexEnergyRatio_1','CA15Puppi_tau_flightDistance2dSig_1','CA15Puppi_jetNTracks','CA15Puppi_nSV_']\n",
    "\"\"\"lepton pT, lepton eta, lepton phi,\n",
    "missing energy magnitude, missing energy phi,\n",
    "jet 1 pt, jet 1 eta, jet 1 phi, jet 1 b-tag,\n",
    "jet 2 pt, jet 2 eta, jet 2 phi, jet 2 b-tag,\n",
    "jet 3 pt, jet 3 eta, jet 3 phi, jet 3 b-tag,\n",
    "jet 4 pt, jet 4 eta, jet 4 phi, jet 4 b-tag,\n",
    "m_jj, m_jjj, m_lv, m_jlv, m_bb, m_wbb,\n",
    "m_wwbb.split(\",\")\n",
    "\"\"\"\n",
    "\n",
    "\n",
    "branch_names = [c.strip() for c in branch_names]\n",
    "\n",
    "branch_names = (b.replace(\" \", \"_\") for b in branch_names)\n",
    "\n",
    "branch_names = list(b.replace(\"-\", \"_\") for b in branch_names)\n",
    "\n",
    "#print (branch_names)\n",
    "\n",
    "## convert ROOT Tree into a 2D array, sciKit works mainly on two d array. \n",
    "## 1 d is for variable name and second dimension for the values of those variables. \n",
    "\n",
    "## Open the rootfile and read TTree and convert those branches into a 2D record. And then convert this record into\n",
    "## array. \n",
    "signal = root2array(\"ZpBaryonic_MZp-1000_MChi-1_trainNCUGlobalTuples_1.root\",\n",
    "                    \"tree/treeMaker\",\n",
    "                    branch_names,\n",
    "                    selection='CA15Puppi_ptPruned > 170.0 & ( CA15Puppi_massPruned < 400) & ( CA15Puppi_massPruned > 70)'\n",
    "                   )\n",
    "\n",
    "print (\"signal\")\n",
    "print (signal)\n",
    "signal = rec2array(signal)\n",
    "\n",
    "backgr = root2array(\"QCD_500TO700_test.root\",\n",
    "                    \"tree/treeMaker\",\n",
    "                    branch_names,\n",
    "                    selection='CA15Puppi_ptPruned > 170.0 & ( CA15Puppi_massPruned < 400) & ( CA15Puppi_massPruned > 70)'\n",
    "                   )\n",
    "backgr = rec2array(backgr)\n",
    "\n",
    "\n",
    "# for sklearn data is usually organised\n",
    "# into one 2D array of shape (n_samples x n_features)\n",
    "# containing all the data and one array of categories\n",
    "# of length n_samples\n",
    "\n",
    "# print ('number of branches ='), len(branch_names)\n",
    "# print ( len(branch_names))\n",
    "# print (signal.shape) \n",
    "# print (backgr.shape) \n",
    "## Join signal and background and everything is not contained in single entity. \n",
    "X = np.concatenate((signal, backgr))\n",
    "\n",
    "print (\"printing X shape\"),(X.shape)\n",
    "# print (X)\n",
    "## add one more column, 1 is for signal and 0 is for background. \n",
    "y = np.concatenate((np.ones(signal.shape[0]),\n",
    "                    np.zeros(backgr.shape[0])))\n",
    "# print (y[0])\n",
    "# print (signal.shape[0])\n",
    "# print (np.ones(signal.shape[0]))\n",
    "# print ((backgr.shape))\n",
    "# print (\"printing Y shape\"),(y.shape)\n",
    "# print (y.shape)\n"
   ]
  },
  {
   "cell_type": "code",
   "execution_count": 16,
   "metadata": {},
   "outputs": [
    {
     "name": "stdout",
     "output_type": "stream",
     "text": [
      "size before spliting\n",
      "xsize\n",
      "(75855, 33)\n",
      "ysize\n",
      "(75855,)\n",
      "size after the spliting\n",
      "xtrain\n",
      "(50822, 33)\n",
      "xtest\n",
      "(25033, 33)\n",
      "ytrain\n",
      "(50822,)\n",
      "ytest\n",
      "(25033,)\n"
     ]
    }
   ],
   "source": [
    "from sklearn.model_selection import train_test_split\n",
    "print ('size before spliting')\n",
    "print ('xsize')\n",
    "print (X.shape)\n",
    "print ('ysize')\n",
    "print (y.shape)\n",
    "X_train,X_test,y_train,y_test = train_test_split (X, y, test_size=0.33, random_state=42)\n",
    "\n",
    "print ('size after the spliting')\n",
    "print ('xtrain')\n",
    "print (X_train.shape)\n",
    "print ('xtest')\n",
    "print (X_test.shape)\n",
    "print ('ytrain')\n",
    "print (y_train.shape)\n",
    "print ('ytest')\n",
    "print (y_test.shape)"
   ]
  },
  {
   "cell_type": "code",
   "execution_count": 19,
   "metadata": {},
   "outputs": [
    {
     "name": "stdout",
     "output_type": "stream",
     "text": [
      "start training\n"
     ]
    },
    {
     "ename": "ValueError",
     "evalue": "setting an array element with a sequence.",
     "output_type": "error",
     "traceback": [
      "\u001b[0;31m---------------------------------------------------------------------------\u001b[0m",
      "\u001b[0;31mValueError\u001b[0m                                Traceback (most recent call last)",
      "\u001b[0;32m<ipython-input-19-aefc5d3503a1>\u001b[0m in \u001b[0;36m<module>\u001b[0;34m()\u001b[0m\n\u001b[1;32m      6\u001b[0m \u001b[0mdt\u001b[0m \u001b[0;34m=\u001b[0m \u001b[0mDecisionTreeClassifier\u001b[0m\u001b[0;34m(\u001b[0m\u001b[0mmax_depth\u001b[0m\u001b[0;34m=\u001b[0m\u001b[0;36m5\u001b[0m\u001b[0;34m)\u001b[0m\u001b[0;34m\u001b[0m\u001b[0m\n\u001b[1;32m      7\u001b[0m \u001b[0mbdt\u001b[0m \u001b[0;34m=\u001b[0m \u001b[0mAdaBoostClassifier\u001b[0m\u001b[0;34m(\u001b[0m\u001b[0mdt\u001b[0m\u001b[0;34m,\u001b[0m\u001b[0malgorithm\u001b[0m\u001b[0;34m=\u001b[0m\u001b[0;34m'SAMME'\u001b[0m\u001b[0;34m,\u001b[0m\u001b[0mn_estimators\u001b[0m\u001b[0;34m=\u001b[0m\u001b[0;36m800\u001b[0m\u001b[0;34m,\u001b[0m\u001b[0mlearning_rate\u001b[0m\u001b[0;34m=\u001b[0m\u001b[0;36m0.5\u001b[0m\u001b[0;34m)\u001b[0m\u001b[0;34m\u001b[0m\u001b[0m\n\u001b[0;32m----> 8\u001b[0;31m \u001b[0mbdt\u001b[0m\u001b[0;34m.\u001b[0m\u001b[0mfit\u001b[0m\u001b[0;34m(\u001b[0m\u001b[0mX_train\u001b[0m\u001b[0;34m,\u001b[0m \u001b[0my_train\u001b[0m\u001b[0;34m)\u001b[0m\u001b[0;34m\u001b[0m\u001b[0m\n\u001b[0m\u001b[1;32m      9\u001b[0m \u001b[0mprint\u001b[0m \u001b[0;34m(\u001b[0m\u001b[0;34m\"bdt had done the fitting\"\u001b[0m\u001b[0;34m)\u001b[0m\u001b[0;34m\u001b[0m\u001b[0m\n",
      "\u001b[0;32m~/Library/Python/3.6/lib/python/site-packages/sklearn/ensemble/weight_boosting.py\u001b[0m in \u001b[0;36mfit\u001b[0;34m(self, X, y, sample_weight)\u001b[0m\n\u001b[1;32m    411\u001b[0m \u001b[0;34m\u001b[0m\u001b[0m\n\u001b[1;32m    412\u001b[0m         \u001b[0;31m# Fit\u001b[0m\u001b[0;34m\u001b[0m\u001b[0;34m\u001b[0m\u001b[0m\n\u001b[0;32m--> 413\u001b[0;31m         \u001b[0;32mreturn\u001b[0m \u001b[0msuper\u001b[0m\u001b[0;34m(\u001b[0m\u001b[0mAdaBoostClassifier\u001b[0m\u001b[0;34m,\u001b[0m \u001b[0mself\u001b[0m\u001b[0;34m)\u001b[0m\u001b[0;34m.\u001b[0m\u001b[0mfit\u001b[0m\u001b[0;34m(\u001b[0m\u001b[0mX\u001b[0m\u001b[0;34m,\u001b[0m \u001b[0my\u001b[0m\u001b[0;34m,\u001b[0m \u001b[0msample_weight\u001b[0m\u001b[0;34m)\u001b[0m\u001b[0;34m\u001b[0m\u001b[0m\n\u001b[0m\u001b[1;32m    414\u001b[0m \u001b[0;34m\u001b[0m\u001b[0m\n\u001b[1;32m    415\u001b[0m     \u001b[0;32mdef\u001b[0m \u001b[0m_validate_estimator\u001b[0m\u001b[0;34m(\u001b[0m\u001b[0mself\u001b[0m\u001b[0;34m)\u001b[0m\u001b[0;34m:\u001b[0m\u001b[0;34m\u001b[0m\u001b[0m\n",
      "\u001b[0;32m~/Library/Python/3.6/lib/python/site-packages/sklearn/ensemble/weight_boosting.py\u001b[0m in \u001b[0;36mfit\u001b[0;34m(self, X, y, sample_weight)\u001b[0m\n\u001b[1;32m    110\u001b[0m \u001b[0;34m\u001b[0m\u001b[0m\n\u001b[1;32m    111\u001b[0m         X, y = check_X_y(X, y, accept_sparse=accept_sparse, dtype=dtype,\n\u001b[0;32m--> 112\u001b[0;31m                          y_numeric=is_regressor(self))\n\u001b[0m\u001b[1;32m    113\u001b[0m \u001b[0;34m\u001b[0m\u001b[0m\n\u001b[1;32m    114\u001b[0m         \u001b[0;32mif\u001b[0m \u001b[0msample_weight\u001b[0m \u001b[0;32mis\u001b[0m \u001b[0;32mNone\u001b[0m\u001b[0;34m:\u001b[0m\u001b[0;34m\u001b[0m\u001b[0m\n",
      "\u001b[0;32m~/Library/Python/3.6/lib/python/site-packages/sklearn/utils/validation.py\u001b[0m in \u001b[0;36mcheck_X_y\u001b[0;34m(X, y, accept_sparse, dtype, order, copy, force_all_finite, ensure_2d, allow_nd, multi_output, ensure_min_samples, ensure_min_features, y_numeric, warn_on_dtype, estimator)\u001b[0m\n\u001b[1;32m    571\u001b[0m     X = check_array(X, accept_sparse, dtype, order, copy, force_all_finite,\n\u001b[1;32m    572\u001b[0m                     \u001b[0mensure_2d\u001b[0m\u001b[0;34m,\u001b[0m \u001b[0mallow_nd\u001b[0m\u001b[0;34m,\u001b[0m \u001b[0mensure_min_samples\u001b[0m\u001b[0;34m,\u001b[0m\u001b[0;34m\u001b[0m\u001b[0m\n\u001b[0;32m--> 573\u001b[0;31m                     ensure_min_features, warn_on_dtype, estimator)\n\u001b[0m\u001b[1;32m    574\u001b[0m     \u001b[0;32mif\u001b[0m \u001b[0mmulti_output\u001b[0m\u001b[0;34m:\u001b[0m\u001b[0;34m\u001b[0m\u001b[0m\n\u001b[1;32m    575\u001b[0m         y = check_array(y, 'csr', force_all_finite=True, ensure_2d=False,\n",
      "\u001b[0;32m~/Library/Python/3.6/lib/python/site-packages/sklearn/utils/validation.py\u001b[0m in \u001b[0;36mcheck_array\u001b[0;34m(array, accept_sparse, dtype, order, copy, force_all_finite, ensure_2d, allow_nd, ensure_min_samples, ensure_min_features, warn_on_dtype, estimator)\u001b[0m\n\u001b[1;32m    431\u001b[0m                                       force_all_finite)\n\u001b[1;32m    432\u001b[0m     \u001b[0;32melse\u001b[0m\u001b[0;34m:\u001b[0m\u001b[0;34m\u001b[0m\u001b[0m\n\u001b[0;32m--> 433\u001b[0;31m         \u001b[0marray\u001b[0m \u001b[0;34m=\u001b[0m \u001b[0mnp\u001b[0m\u001b[0;34m.\u001b[0m\u001b[0marray\u001b[0m\u001b[0;34m(\u001b[0m\u001b[0marray\u001b[0m\u001b[0;34m,\u001b[0m \u001b[0mdtype\u001b[0m\u001b[0;34m=\u001b[0m\u001b[0mdtype\u001b[0m\u001b[0;34m,\u001b[0m \u001b[0morder\u001b[0m\u001b[0;34m=\u001b[0m\u001b[0morder\u001b[0m\u001b[0;34m,\u001b[0m \u001b[0mcopy\u001b[0m\u001b[0;34m=\u001b[0m\u001b[0mcopy\u001b[0m\u001b[0;34m)\u001b[0m\u001b[0;34m\u001b[0m\u001b[0m\n\u001b[0m\u001b[1;32m    434\u001b[0m \u001b[0;34m\u001b[0m\u001b[0m\n\u001b[1;32m    435\u001b[0m         \u001b[0;32mif\u001b[0m \u001b[0mensure_2d\u001b[0m\u001b[0;34m:\u001b[0m\u001b[0;34m\u001b[0m\u001b[0m\n",
      "\u001b[0;31mValueError\u001b[0m: setting an array element with a sequence."
     ]
    }
   ],
   "source": [
    "print (\"start training\")\n",
    "from sklearn.tree import DecisionTreeClassifier\n",
    "from sklearn.ensemble import AdaBoostClassifier\n",
    "from sklearn.metrics import classification_report, roc_auc_score\n",
    "\n",
    "dt = DecisionTreeClassifier(max_depth=5)\n",
    "bdt = AdaBoostClassifier(dt,algorithm='SAMME',n_estimators=800,learning_rate=0.5)\n",
    "bdt.fit(X_train, y_train)\n",
    "print (\"bdt had done the fitting\")"
   ]
  },
  {
   "cell_type": "code",
   "execution_count": 25,
   "metadata": {},
   "outputs": [
    {
     "ename": "NotFittedError",
     "evalue": "This AdaBoostClassifier instance is not fitted yet. Call 'fit' with appropriate arguments before using this method.",
     "output_type": "error",
     "traceback": [
      "\u001b[0;31m---------------------------------------------------------------------------\u001b[0m",
      "\u001b[0;31mNotFittedError\u001b[0m                            Traceback (most recent call last)",
      "\u001b[0;32m<ipython-input-25-eefb5c08d2ec>\u001b[0m in \u001b[0;36m<module>\u001b[0;34m()\u001b[0m\n\u001b[0;32m----> 1\u001b[0;31m \u001b[0my_predicted\u001b[0m \u001b[0;34m=\u001b[0m \u001b[0mbdt\u001b[0m\u001b[0;34m.\u001b[0m\u001b[0mpredict\u001b[0m\u001b[0;34m(\u001b[0m\u001b[0mX_test1\u001b[0m\u001b[0;34m)\u001b[0m\u001b[0;34m\u001b[0m\u001b[0m\n\u001b[0m\u001b[1;32m      2\u001b[0m \u001b[0mprint\u001b[0m \u001b[0;34m(\u001b[0m\u001b[0;34m\"ypredicted\"\u001b[0m\u001b[0;34m)\u001b[0m\u001b[0;34m\u001b[0m\u001b[0m\n\u001b[1;32m      3\u001b[0m \u001b[0mprint\u001b[0m \u001b[0;34m(\u001b[0m\u001b[0my_predicted\u001b[0m\u001b[0;34m)\u001b[0m\u001b[0;34m\u001b[0m\u001b[0m\n",
      "\u001b[0;32m~/Library/Python/3.6/lib/python/site-packages/sklearn/ensemble/weight_boosting.py\u001b[0m in \u001b[0;36mpredict\u001b[0;34m(self, X)\u001b[0m\n\u001b[1;32m    600\u001b[0m             \u001b[0mThe\u001b[0m \u001b[0mpredicted\u001b[0m \u001b[0mclasses\u001b[0m\u001b[0;34m.\u001b[0m\u001b[0;34m\u001b[0m\u001b[0m\n\u001b[1;32m    601\u001b[0m         \"\"\"\n\u001b[0;32m--> 602\u001b[0;31m         \u001b[0mpred\u001b[0m \u001b[0;34m=\u001b[0m \u001b[0mself\u001b[0m\u001b[0;34m.\u001b[0m\u001b[0mdecision_function\u001b[0m\u001b[0;34m(\u001b[0m\u001b[0mX\u001b[0m\u001b[0;34m)\u001b[0m\u001b[0;34m\u001b[0m\u001b[0m\n\u001b[0m\u001b[1;32m    603\u001b[0m \u001b[0;34m\u001b[0m\u001b[0m\n\u001b[1;32m    604\u001b[0m         \u001b[0;32mif\u001b[0m \u001b[0mself\u001b[0m\u001b[0;34m.\u001b[0m\u001b[0mn_classes_\u001b[0m \u001b[0;34m==\u001b[0m \u001b[0;36m2\u001b[0m\u001b[0;34m:\u001b[0m\u001b[0;34m\u001b[0m\u001b[0m\n",
      "\u001b[0;32m~/Library/Python/3.6/lib/python/site-packages/sklearn/ensemble/weight_boosting.py\u001b[0m in \u001b[0;36mdecision_function\u001b[0;34m(self, X)\u001b[0m\n\u001b[1;32m    658\u001b[0m             \u001b[0;32mclass\u001b[0m \u001b[0;32min\u001b[0m\u001b[0;31m \u001b[0m\u001b[0;31m`\u001b[0m\u001b[0;31m`\u001b[0m\u001b[0mclasses_\u001b[0m\u001b[0;31m`\u001b[0m\u001b[0;31m`\u001b[0m\u001b[0;34m,\u001b[0m \u001b[0mrespectively\u001b[0m\u001b[0;34m.\u001b[0m\u001b[0;34m\u001b[0m\u001b[0m\n\u001b[1;32m    659\u001b[0m         \"\"\"\n\u001b[0;32m--> 660\u001b[0;31m         \u001b[0mcheck_is_fitted\u001b[0m\u001b[0;34m(\u001b[0m\u001b[0mself\u001b[0m\u001b[0;34m,\u001b[0m \u001b[0;34m\"n_classes_\"\u001b[0m\u001b[0;34m)\u001b[0m\u001b[0;34m\u001b[0m\u001b[0m\n\u001b[0m\u001b[1;32m    661\u001b[0m         \u001b[0mX\u001b[0m \u001b[0;34m=\u001b[0m \u001b[0mself\u001b[0m\u001b[0;34m.\u001b[0m\u001b[0m_validate_X_predict\u001b[0m\u001b[0;34m(\u001b[0m\u001b[0mX\u001b[0m\u001b[0;34m)\u001b[0m\u001b[0;34m\u001b[0m\u001b[0m\n\u001b[1;32m    662\u001b[0m \u001b[0;34m\u001b[0m\u001b[0m\n",
      "\u001b[0;32m~/Library/Python/3.6/lib/python/site-packages/sklearn/utils/validation.py\u001b[0m in \u001b[0;36mcheck_is_fitted\u001b[0;34m(estimator, attributes, msg, all_or_any)\u001b[0m\n\u001b[1;32m    766\u001b[0m \u001b[0;34m\u001b[0m\u001b[0m\n\u001b[1;32m    767\u001b[0m     \u001b[0;32mif\u001b[0m \u001b[0;32mnot\u001b[0m \u001b[0mall_or_any\u001b[0m\u001b[0;34m(\u001b[0m\u001b[0;34m[\u001b[0m\u001b[0mhasattr\u001b[0m\u001b[0;34m(\u001b[0m\u001b[0mestimator\u001b[0m\u001b[0;34m,\u001b[0m \u001b[0mattr\u001b[0m\u001b[0;34m)\u001b[0m \u001b[0;32mfor\u001b[0m \u001b[0mattr\u001b[0m \u001b[0;32min\u001b[0m \u001b[0mattributes\u001b[0m\u001b[0;34m]\u001b[0m\u001b[0;34m)\u001b[0m\u001b[0;34m:\u001b[0m\u001b[0;34m\u001b[0m\u001b[0m\n\u001b[0;32m--> 768\u001b[0;31m         \u001b[0;32mraise\u001b[0m \u001b[0mNotFittedError\u001b[0m\u001b[0;34m(\u001b[0m\u001b[0mmsg\u001b[0m \u001b[0;34m%\u001b[0m \u001b[0;34m{\u001b[0m\u001b[0;34m'name'\u001b[0m\u001b[0;34m:\u001b[0m \u001b[0mtype\u001b[0m\u001b[0;34m(\u001b[0m\u001b[0mestimator\u001b[0m\u001b[0;34m)\u001b[0m\u001b[0;34m.\u001b[0m\u001b[0m__name__\u001b[0m\u001b[0;34m}\u001b[0m\u001b[0;34m)\u001b[0m\u001b[0;34m\u001b[0m\u001b[0m\n\u001b[0m\u001b[1;32m    769\u001b[0m \u001b[0;34m\u001b[0m\u001b[0m\n\u001b[1;32m    770\u001b[0m \u001b[0;34m\u001b[0m\u001b[0m\n",
      "\u001b[0;31mNotFittedError\u001b[0m: This AdaBoostClassifier instance is not fitted yet. Call 'fit' with appropriate arguments before using this method."
     ]
    }
   ],
   "source": [
    "y_predicted = bdt.predict(X_test1)\n",
    "print (\"ypredicted\")\n",
    "print (y_predicted)"
   ]
  },
  {
   "cell_type": "code",
   "execution_count": 26,
   "metadata": {},
   "outputs": [
    {
     "ename": "NameError",
     "evalue": "name 'y_predicted' is not defined",
     "output_type": "error",
     "traceback": [
      "\u001b[0;31m---------------------------------------------------------------------------\u001b[0m",
      "\u001b[0;31mNameError\u001b[0m                                 Traceback (most recent call last)",
      "\u001b[0;32m<ipython-input-26-210d1a2957d2>\u001b[0m in \u001b[0;36m<module>\u001b[0;34m()\u001b[0m\n\u001b[0;32m----> 1\u001b[0;31m print (classification_report(y_test1, y_predicted,\n\u001b[0m\u001b[1;32m      2\u001b[0m                             target_names=[\"background\", \"signal\"]))\n",
      "\u001b[0;31mNameError\u001b[0m: name 'y_predicted' is not defined"
     ]
    }
   ],
   "source": [
    "print (classification_report(y_test1, y_predicted,\n",
    "                            target_names=[\"background\", \"signal\"]))"
   ]
  },
  {
   "cell_type": "code",
   "execution_count": 27,
   "metadata": {},
   "outputs": [
    {
     "ename": "NotFittedError",
     "evalue": "This AdaBoostClassifier instance is not fitted yet. Call 'fit' with appropriate arguments before using this method.",
     "output_type": "error",
     "traceback": [
      "\u001b[0;31m---------------------------------------------------------------------------\u001b[0m",
      "\u001b[0;31mNotFittedError\u001b[0m                            Traceback (most recent call last)",
      "\u001b[0;32m<ipython-input-27-991603b82781>\u001b[0m in \u001b[0;36m<module>\u001b[0;34m()\u001b[0m\n\u001b[1;32m      1\u001b[0m \u001b[0;32mfrom\u001b[0m \u001b[0msklearn\u001b[0m\u001b[0;34m.\u001b[0m\u001b[0mmetrics\u001b[0m \u001b[0;32mimport\u001b[0m \u001b[0mroc_curve\u001b[0m\u001b[0;34m,\u001b[0m \u001b[0mauc\u001b[0m\u001b[0;34m\u001b[0m\u001b[0m\n\u001b[0;32m----> 2\u001b[0;31m \u001b[0mdecisions\u001b[0m \u001b[0;34m=\u001b[0m \u001b[0mbdt\u001b[0m\u001b[0;34m.\u001b[0m\u001b[0mdecision_function\u001b[0m\u001b[0;34m(\u001b[0m\u001b[0mX_test1\u001b[0m\u001b[0;34m)\u001b[0m\u001b[0;34m\u001b[0m\u001b[0m\n\u001b[0m\u001b[1;32m      3\u001b[0m \u001b[0mprint\u001b[0m \u001b[0;34m(\u001b[0m\u001b[0mdecisions\u001b[0m\u001b[0;34m)\u001b[0m\u001b[0;34m\u001b[0m\u001b[0m\n\u001b[1;32m      4\u001b[0m \u001b[0mprint\u001b[0m \u001b[0;34m(\u001b[0m\u001b[0;34m\"Area under the ROC: %.4f\"\u001b[0m \u001b[0;34m%\u001b[0m\u001b[0mroc_auc_score\u001b[0m\u001b[0;34m(\u001b[0m\u001b[0my_test1\u001b[0m\u001b[0;34m,\u001b[0m\u001b[0mdecisions\u001b[0m\u001b[0;34m)\u001b[0m\u001b[0;34m)\u001b[0m\u001b[0;34m\u001b[0m\u001b[0m\n",
      "\u001b[0;32m~/Library/Python/3.6/lib/python/site-packages/sklearn/ensemble/weight_boosting.py\u001b[0m in \u001b[0;36mdecision_function\u001b[0;34m(self, X)\u001b[0m\n\u001b[1;32m    658\u001b[0m             \u001b[0;32mclass\u001b[0m \u001b[0;32min\u001b[0m\u001b[0;31m \u001b[0m\u001b[0;31m`\u001b[0m\u001b[0;31m`\u001b[0m\u001b[0mclasses_\u001b[0m\u001b[0;31m`\u001b[0m\u001b[0;31m`\u001b[0m\u001b[0;34m,\u001b[0m \u001b[0mrespectively\u001b[0m\u001b[0;34m.\u001b[0m\u001b[0;34m\u001b[0m\u001b[0m\n\u001b[1;32m    659\u001b[0m         \"\"\"\n\u001b[0;32m--> 660\u001b[0;31m         \u001b[0mcheck_is_fitted\u001b[0m\u001b[0;34m(\u001b[0m\u001b[0mself\u001b[0m\u001b[0;34m,\u001b[0m \u001b[0;34m\"n_classes_\"\u001b[0m\u001b[0;34m)\u001b[0m\u001b[0;34m\u001b[0m\u001b[0m\n\u001b[0m\u001b[1;32m    661\u001b[0m         \u001b[0mX\u001b[0m \u001b[0;34m=\u001b[0m \u001b[0mself\u001b[0m\u001b[0;34m.\u001b[0m\u001b[0m_validate_X_predict\u001b[0m\u001b[0;34m(\u001b[0m\u001b[0mX\u001b[0m\u001b[0;34m)\u001b[0m\u001b[0;34m\u001b[0m\u001b[0m\n\u001b[1;32m    662\u001b[0m \u001b[0;34m\u001b[0m\u001b[0m\n",
      "\u001b[0;32m~/Library/Python/3.6/lib/python/site-packages/sklearn/utils/validation.py\u001b[0m in \u001b[0;36mcheck_is_fitted\u001b[0;34m(estimator, attributes, msg, all_or_any)\u001b[0m\n\u001b[1;32m    766\u001b[0m \u001b[0;34m\u001b[0m\u001b[0m\n\u001b[1;32m    767\u001b[0m     \u001b[0;32mif\u001b[0m \u001b[0;32mnot\u001b[0m \u001b[0mall_or_any\u001b[0m\u001b[0;34m(\u001b[0m\u001b[0;34m[\u001b[0m\u001b[0mhasattr\u001b[0m\u001b[0;34m(\u001b[0m\u001b[0mestimator\u001b[0m\u001b[0;34m,\u001b[0m \u001b[0mattr\u001b[0m\u001b[0;34m)\u001b[0m \u001b[0;32mfor\u001b[0m \u001b[0mattr\u001b[0m \u001b[0;32min\u001b[0m \u001b[0mattributes\u001b[0m\u001b[0;34m]\u001b[0m\u001b[0;34m)\u001b[0m\u001b[0;34m:\u001b[0m\u001b[0;34m\u001b[0m\u001b[0m\n\u001b[0;32m--> 768\u001b[0;31m         \u001b[0;32mraise\u001b[0m \u001b[0mNotFittedError\u001b[0m\u001b[0;34m(\u001b[0m\u001b[0mmsg\u001b[0m \u001b[0;34m%\u001b[0m \u001b[0;34m{\u001b[0m\u001b[0;34m'name'\u001b[0m\u001b[0;34m:\u001b[0m \u001b[0mtype\u001b[0m\u001b[0;34m(\u001b[0m\u001b[0mestimator\u001b[0m\u001b[0;34m)\u001b[0m\u001b[0;34m.\u001b[0m\u001b[0m__name__\u001b[0m\u001b[0;34m}\u001b[0m\u001b[0;34m)\u001b[0m\u001b[0;34m\u001b[0m\u001b[0m\n\u001b[0m\u001b[1;32m    769\u001b[0m \u001b[0;34m\u001b[0m\u001b[0m\n\u001b[1;32m    770\u001b[0m \u001b[0;34m\u001b[0m\u001b[0m\n",
      "\u001b[0;31mNotFittedError\u001b[0m: This AdaBoostClassifier instance is not fitted yet. Call 'fit' with appropriate arguments before using this method."
     ]
    }
   ],
   "source": [
    "from sklearn.metrics import roc_curve, auc\n",
    "decisions = bdt.decision_function(X_test1)\n",
    "print (decisions)\n",
    "print (\"Area under the ROC: %.4f\" %roc_auc_score(y_test1,decisions))"
   ]
  },
  {
   "cell_type": "code",
   "execution_count": null,
   "metadata": {},
   "outputs": [],
   "source": [
    "fpr, tpr, thresholds = roc_curve(y_test1, decisions)\n",
    "roc_auc = auc(fpr, tpr)\n",
    "\n",
    "plt.plot(fpr, tpr,color='darkorange', lw=3, label='ROC (area = %0.2f)'%(roc_auc))\n",
    "\n",
    "plt.plot([0, 1], [0, 1], '--', color='navy')\n",
    "plt.xlim([-0.05, 1.05])\n",
    "plt.ylim([-0.05, 1.05])\n",
    "plt.xlabel(r'False Positive Rate')\n",
    "plt.ylabel(r'True Positive Rate')\n",
    "plt.title(r'Receiver operating characteristic')\n",
    "plt.legend(loc=\"lower right\")\n",
    "plt.grid()\n",
    "plt.show()\n",
    "plt.savefig('roc')"
   ]
  }
 ],
 "metadata": {
  "kernelspec": {
   "display_name": "Python 3",
   "language": "python",
   "name": "python3"
  },
  "language_info": {
   "codemirror_mode": {
    "name": "ipython",
    "version": 3
   },
   "file_extension": ".py",
   "mimetype": "text/x-python",
   "name": "python",
   "nbconvert_exporter": "python",
   "pygments_lexer": "ipython3",
   "version": "3.6.5"
  }
 },
 "nbformat": 4,
 "nbformat_minor": 2
}
